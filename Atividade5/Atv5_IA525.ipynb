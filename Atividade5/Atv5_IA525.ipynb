{
  "cells": [
    {
      "cell_type": "markdown",
      "metadata": {
        "id": "BHJinRrwOJ7G"
      },
      "source": [
        "# Atividade 5 - Classificadores Lineares\n",
        "## IA525\n",
        "Nome: Jitesh Ashok Manilal Vassaram, RA: 175867"
      ]
    },
    {
      "cell_type": "code",
      "execution_count": null,
      "metadata": {
        "colab": {
          "base_uri": "https://localhost:8080/"
        },
        "id": "Z_NtzzSxO0Uj",
        "outputId": "b0fe46e1-4d39-4f96-dd20-90b162bf284f"
      },
      "outputs": [],
      "source": [
        "#%pip install scikit-learn"
      ]
    },
    {
      "cell_type": "code",
      "execution_count": 1,
      "metadata": {
        "id": "DkmtzvDiPM3x"
      },
      "outputs": [],
      "source": [
        "from sklearn import datasets\n",
        "import matplotlib.pyplot as plt\n",
        "import pandas as pd\n",
        "pd.set_option('display.max_columns', None)\n",
        "pd.set_option('display.width', 1000)\n",
        "# iris = datasets.load_iris()\n",
        "\n",
        "# Conversão dos dados para DataFrame\n",
        "# iris_df = pd.DataFrame(data=iris.data, columns=iris.feature_names)\n",
        "\n",
        "# Adição da coluna 'target' (gabarito)\n",
        "# iris_df['target'] = iris.target\n",
        "\n",
        "\n",
        "column_names = ['comprimento', 'Largura', 'comprimento Sepala','Largura Sepala','target']\n",
        "iris_df = pd.read_csv('../Atividade5/iris.data', delimiter=',', names=column_names)"
      ]
    },
    {
      "cell_type": "code",
      "execution_count": 2,
      "metadata": {
        "colab": {
          "base_uri": "https://localhost:8080/",
          "height": 424
        },
        "id": "yyyvjwwqQLL_",
        "outputId": "ce2414e4-1337-42b3-ed33-fbe30a2c1083"
      },
      "outputs": [
        {
          "data": {
            "text/html": [
              "<div>\n",
              "<style scoped>\n",
              "    .dataframe tbody tr th:only-of-type {\n",
              "        vertical-align: middle;\n",
              "    }\n",
              "\n",
              "    .dataframe tbody tr th {\n",
              "        vertical-align: top;\n",
              "    }\n",
              "\n",
              "    .dataframe thead th {\n",
              "        text-align: right;\n",
              "    }\n",
              "</style>\n",
              "<table border=\"1\" class=\"dataframe\">\n",
              "  <thead>\n",
              "    <tr style=\"text-align: right;\">\n",
              "      <th></th>\n",
              "      <th>comprimento</th>\n",
              "      <th>Largura</th>\n",
              "      <th>comprimento Sepala</th>\n",
              "      <th>Largura Sepala</th>\n",
              "      <th>target</th>\n",
              "    </tr>\n",
              "  </thead>\n",
              "  <tbody>\n",
              "    <tr>\n",
              "      <th>0</th>\n",
              "      <td>5.1</td>\n",
              "      <td>3.5</td>\n",
              "      <td>1.4</td>\n",
              "      <td>0.2</td>\n",
              "      <td>Iris-setosa</td>\n",
              "    </tr>\n",
              "    <tr>\n",
              "      <th>1</th>\n",
              "      <td>4.9</td>\n",
              "      <td>3.0</td>\n",
              "      <td>1.4</td>\n",
              "      <td>0.2</td>\n",
              "      <td>Iris-setosa</td>\n",
              "    </tr>\n",
              "    <tr>\n",
              "      <th>2</th>\n",
              "      <td>4.7</td>\n",
              "      <td>3.2</td>\n",
              "      <td>1.3</td>\n",
              "      <td>0.2</td>\n",
              "      <td>Iris-setosa</td>\n",
              "    </tr>\n",
              "    <tr>\n",
              "      <th>3</th>\n",
              "      <td>4.6</td>\n",
              "      <td>3.1</td>\n",
              "      <td>1.5</td>\n",
              "      <td>0.2</td>\n",
              "      <td>Iris-setosa</td>\n",
              "    </tr>\n",
              "    <tr>\n",
              "      <th>4</th>\n",
              "      <td>5.0</td>\n",
              "      <td>3.6</td>\n",
              "      <td>1.4</td>\n",
              "      <td>0.2</td>\n",
              "      <td>Iris-setosa</td>\n",
              "    </tr>\n",
              "    <tr>\n",
              "      <th>...</th>\n",
              "      <td>...</td>\n",
              "      <td>...</td>\n",
              "      <td>...</td>\n",
              "      <td>...</td>\n",
              "      <td>...</td>\n",
              "    </tr>\n",
              "    <tr>\n",
              "      <th>145</th>\n",
              "      <td>6.7</td>\n",
              "      <td>3.0</td>\n",
              "      <td>5.2</td>\n",
              "      <td>2.3</td>\n",
              "      <td>Iris-virginica</td>\n",
              "    </tr>\n",
              "    <tr>\n",
              "      <th>146</th>\n",
              "      <td>6.3</td>\n",
              "      <td>2.5</td>\n",
              "      <td>5.0</td>\n",
              "      <td>1.9</td>\n",
              "      <td>Iris-virginica</td>\n",
              "    </tr>\n",
              "    <tr>\n",
              "      <th>147</th>\n",
              "      <td>6.5</td>\n",
              "      <td>3.0</td>\n",
              "      <td>5.2</td>\n",
              "      <td>2.0</td>\n",
              "      <td>Iris-virginica</td>\n",
              "    </tr>\n",
              "    <tr>\n",
              "      <th>148</th>\n",
              "      <td>6.2</td>\n",
              "      <td>3.4</td>\n",
              "      <td>5.4</td>\n",
              "      <td>2.3</td>\n",
              "      <td>Iris-virginica</td>\n",
              "    </tr>\n",
              "    <tr>\n",
              "      <th>149</th>\n",
              "      <td>5.9</td>\n",
              "      <td>3.0</td>\n",
              "      <td>5.1</td>\n",
              "      <td>1.8</td>\n",
              "      <td>Iris-virginica</td>\n",
              "    </tr>\n",
              "  </tbody>\n",
              "</table>\n",
              "<p>150 rows × 5 columns</p>\n",
              "</div>"
            ],
            "text/plain": [
              "     comprimento  Largura  comprimento Sepala  Largura Sepala          target\n",
              "0            5.1      3.5                 1.4             0.2     Iris-setosa\n",
              "1            4.9      3.0                 1.4             0.2     Iris-setosa\n",
              "2            4.7      3.2                 1.3             0.2     Iris-setosa\n",
              "3            4.6      3.1                 1.5             0.2     Iris-setosa\n",
              "4            5.0      3.6                 1.4             0.2     Iris-setosa\n",
              "..           ...      ...                 ...             ...             ...\n",
              "145          6.7      3.0                 5.2             2.3  Iris-virginica\n",
              "146          6.3      2.5                 5.0             1.9  Iris-virginica\n",
              "147          6.5      3.0                 5.2             2.0  Iris-virginica\n",
              "148          6.2      3.4                 5.4             2.3  Iris-virginica\n",
              "149          5.9      3.0                 5.1             1.8  Iris-virginica\n",
              "\n",
              "[150 rows x 5 columns]"
            ]
          },
          "execution_count": 2,
          "metadata": {},
          "output_type": "execute_result"
        }
      ],
      "source": [
        "iris_df"
      ]
    },
    {
      "cell_type": "code",
      "execution_count": 3,
      "metadata": {
        "id": "KY138P1DRhle"
      },
      "outputs": [],
      "source": [
        "from sklearn.model_selection import train_test_split\n",
        "from sklearn.linear_model import LinearRegression\n",
        "from sklearn.metrics import accuracy_score\n"
      ]
    },
    {
      "cell_type": "markdown",
      "metadata": {
        "id": "K8p_3erLkZng"
      },
      "source": [
        "# Classificadores binários QM"
      ]
    },
    {
      "cell_type": "code",
      "execution_count": 4,
      "metadata": {
        "colab": {
          "base_uri": "https://localhost:8080/",
          "height": 687
        },
        "id": "C82w-Y9Pkd9w",
        "outputId": "a52037fb-ea00-402b-e6c1-b4c451a04e4c"
      },
      "outputs": [
        {
          "data": {
            "text/html": [
              "<div>\n",
              "<style scoped>\n",
              "    .dataframe tbody tr th:only-of-type {\n",
              "        vertical-align: middle;\n",
              "    }\n",
              "\n",
              "    .dataframe tbody tr th {\n",
              "        vertical-align: top;\n",
              "    }\n",
              "\n",
              "    .dataframe thead th {\n",
              "        text-align: right;\n",
              "    }\n",
              "</style>\n",
              "<table border=\"1\" class=\"dataframe\">\n",
              "  <thead>\n",
              "    <tr style=\"text-align: right;\">\n",
              "      <th></th>\n",
              "      <th>comprimento</th>\n",
              "      <th>Largura</th>\n",
              "      <th>comprimento Sepala</th>\n",
              "      <th>Largura Sepala</th>\n",
              "      <th>target</th>\n",
              "      <th>class0</th>\n",
              "      <th>class1</th>\n",
              "      <th>class2</th>\n",
              "    </tr>\n",
              "  </thead>\n",
              "  <tbody>\n",
              "    <tr>\n",
              "      <th>0</th>\n",
              "      <td>5.1</td>\n",
              "      <td>3.5</td>\n",
              "      <td>1.4</td>\n",
              "      <td>0.2</td>\n",
              "      <td>Iris-setosa</td>\n",
              "      <td>1</td>\n",
              "      <td>-1</td>\n",
              "      <td>-1</td>\n",
              "    </tr>\n",
              "    <tr>\n",
              "      <th>1</th>\n",
              "      <td>4.9</td>\n",
              "      <td>3.0</td>\n",
              "      <td>1.4</td>\n",
              "      <td>0.2</td>\n",
              "      <td>Iris-setosa</td>\n",
              "      <td>1</td>\n",
              "      <td>-1</td>\n",
              "      <td>-1</td>\n",
              "    </tr>\n",
              "    <tr>\n",
              "      <th>2</th>\n",
              "      <td>4.7</td>\n",
              "      <td>3.2</td>\n",
              "      <td>1.3</td>\n",
              "      <td>0.2</td>\n",
              "      <td>Iris-setosa</td>\n",
              "      <td>1</td>\n",
              "      <td>-1</td>\n",
              "      <td>-1</td>\n",
              "    </tr>\n",
              "    <tr>\n",
              "      <th>3</th>\n",
              "      <td>4.6</td>\n",
              "      <td>3.1</td>\n",
              "      <td>1.5</td>\n",
              "      <td>0.2</td>\n",
              "      <td>Iris-setosa</td>\n",
              "      <td>1</td>\n",
              "      <td>-1</td>\n",
              "      <td>-1</td>\n",
              "    </tr>\n",
              "    <tr>\n",
              "      <th>4</th>\n",
              "      <td>5.0</td>\n",
              "      <td>3.6</td>\n",
              "      <td>1.4</td>\n",
              "      <td>0.2</td>\n",
              "      <td>Iris-setosa</td>\n",
              "      <td>1</td>\n",
              "      <td>-1</td>\n",
              "      <td>-1</td>\n",
              "    </tr>\n",
              "    <tr>\n",
              "      <th>...</th>\n",
              "      <td>...</td>\n",
              "      <td>...</td>\n",
              "      <td>...</td>\n",
              "      <td>...</td>\n",
              "      <td>...</td>\n",
              "      <td>...</td>\n",
              "      <td>...</td>\n",
              "      <td>...</td>\n",
              "    </tr>\n",
              "    <tr>\n",
              "      <th>145</th>\n",
              "      <td>6.7</td>\n",
              "      <td>3.0</td>\n",
              "      <td>5.2</td>\n",
              "      <td>2.3</td>\n",
              "      <td>Iris-virginica</td>\n",
              "      <td>-1</td>\n",
              "      <td>-1</td>\n",
              "      <td>1</td>\n",
              "    </tr>\n",
              "    <tr>\n",
              "      <th>146</th>\n",
              "      <td>6.3</td>\n",
              "      <td>2.5</td>\n",
              "      <td>5.0</td>\n",
              "      <td>1.9</td>\n",
              "      <td>Iris-virginica</td>\n",
              "      <td>-1</td>\n",
              "      <td>-1</td>\n",
              "      <td>1</td>\n",
              "    </tr>\n",
              "    <tr>\n",
              "      <th>147</th>\n",
              "      <td>6.5</td>\n",
              "      <td>3.0</td>\n",
              "      <td>5.2</td>\n",
              "      <td>2.0</td>\n",
              "      <td>Iris-virginica</td>\n",
              "      <td>-1</td>\n",
              "      <td>-1</td>\n",
              "      <td>1</td>\n",
              "    </tr>\n",
              "    <tr>\n",
              "      <th>148</th>\n",
              "      <td>6.2</td>\n",
              "      <td>3.4</td>\n",
              "      <td>5.4</td>\n",
              "      <td>2.3</td>\n",
              "      <td>Iris-virginica</td>\n",
              "      <td>-1</td>\n",
              "      <td>-1</td>\n",
              "      <td>1</td>\n",
              "    </tr>\n",
              "    <tr>\n",
              "      <th>149</th>\n",
              "      <td>5.9</td>\n",
              "      <td>3.0</td>\n",
              "      <td>5.1</td>\n",
              "      <td>1.8</td>\n",
              "      <td>Iris-virginica</td>\n",
              "      <td>-1</td>\n",
              "      <td>-1</td>\n",
              "      <td>1</td>\n",
              "    </tr>\n",
              "  </tbody>\n",
              "</table>\n",
              "<p>150 rows × 8 columns</p>\n",
              "</div>"
            ],
            "text/plain": [
              "     comprimento  Largura  comprimento Sepala  Largura Sepala          target  class0  class1  class2\n",
              "0            5.1      3.5                 1.4             0.2     Iris-setosa       1      -1      -1\n",
              "1            4.9      3.0                 1.4             0.2     Iris-setosa       1      -1      -1\n",
              "2            4.7      3.2                 1.3             0.2     Iris-setosa       1      -1      -1\n",
              "3            4.6      3.1                 1.5             0.2     Iris-setosa       1      -1      -1\n",
              "4            5.0      3.6                 1.4             0.2     Iris-setosa       1      -1      -1\n",
              "..           ...      ...                 ...             ...             ...     ...     ...     ...\n",
              "145          6.7      3.0                 5.2             2.3  Iris-virginica      -1      -1       1\n",
              "146          6.3      2.5                 5.0             1.9  Iris-virginica      -1      -1       1\n",
              "147          6.5      3.0                 5.2             2.0  Iris-virginica      -1      -1       1\n",
              "148          6.2      3.4                 5.4             2.3  Iris-virginica      -1      -1       1\n",
              "149          5.9      3.0                 5.1             1.8  Iris-virginica      -1      -1       1\n",
              "\n",
              "[150 rows x 8 columns]"
            ]
          },
          "execution_count": 4,
          "metadata": {},
          "output_type": "execute_result"
        }
      ],
      "source": [
        "iris_df['class0'] = iris_df['target'].apply(lambda x: 1 if x == 'Iris-setosa' else -1)   # Nova Coluna identificando a classe 0 em detrimento das outras duas \n",
        "iris_df['class1'] = iris_df['target'].apply(lambda x: 1 if x == 'Iris-versicolor' else -1)   # Nova Coluna identificando a classe 1 em detrimento das outras duas\n",
        "iris_df['class2'] = iris_df['target'].apply(lambda x: 1 if x == 'Iris-virginica' else -1)   # Nova Coluna identificando a classe 2 em detrimento das outras duas\n",
        "\n",
        "iris_df"
      ]
    },
    {
      "cell_type": "code",
      "execution_count": 5,
      "metadata": {
        "id": "iv2wiuLnmbo9"
      },
      "outputs": [],
      "source": [
        "X = iris_df.drop(columns=['target','class0','class1','class2']) # Matriz das amostras e seus atributos\n",
        "y0 = iris_df['class0']  # Classificação binária da classe 0\n",
        "y1 = iris_df['class1']  # Classificação binária da classe 1\n",
        "y2 = iris_df['class2']  # Classificação binária da classe 2"
      ]
    },
    {
      "cell_type": "code",
      "execution_count": 11,
      "metadata": {
        "colab": {
          "base_uri": "https://localhost:8080/"
        },
        "id": "eT1wx1PHntXB",
        "outputId": "2f1504e1-f9c1-49e0-e2fc-3b10f2f19b0d"
      },
      "outputs": [
        {
          "name": "stdout",
          "output_type": "stream",
          "text": [
            "----------------------------------------------------------------------------------------------------\n",
            "Taxa de erro para a classe \"Iris-setosa\" no Teste: 0.00000%\n",
            "----------------------------------------------------------------------------------------------------\n",
            "Taxa de erro para a classe \"Iris-setosa\" no Treinamento: 0.00000%\n",
            "----------------------------------------------------------------------------------------------------\n"
          ]
        }
      ],
      "source": [
        "import numpy as np\n",
        "# Classificador para a classe 0\n",
        "\n",
        "# Divisão dos dados em treinamento e teste\n",
        "X_train, X_test, y0_train, y0_test = train_test_split(X, y0, test_size=1/3, random_state=42)\n",
        "\n",
        "model0 = LinearRegression()         # Modelo de Quadrados Mínimos\n",
        "model0.fit(X_train,y0_train)        # Treinamento do modelo\n",
        "\n",
        "y0_pred = model0.predict(X_test)    \n",
        "y0_pred = np.where(y0_pred >= 0, 1, -1)  # Predição dos dados de teste (valor binário)\n",
        "\n",
        "acc0 = accuracy_score(y0_test,y0_pred)\n",
        "\n",
        "print('--'*50)\n",
        "\n",
        "print(f'Taxa de erro para a classe \"Iris-setosa\" no Teste: {(1-acc0)*100:.5f}%')\n",
        "\n",
        "print('--'*50)\n",
        "\n",
        "y0_pred2 = model0.predict(X_train)\n",
        "y0_pred2 = np.where(y0_pred2 >= 0, 1, -1)    # Predição dos dados de treinamento (valor binário)\n",
        "\n",
        "acc01 = accuracy_score(y0_train,y0_pred2)\n",
        "\n",
        "print(f'Taxa de erro para a classe \"Iris-setosa\" no Treinamento: {(1-acc01)*100:.5f}%')\n",
        "\n",
        "print('--'*50)"
      ]
    },
    {
      "cell_type": "code",
      "execution_count": 12,
      "metadata": {
        "colab": {
          "base_uri": "https://localhost:8080/"
        },
        "id": "Ze7iHAwKuQVG",
        "outputId": "1909bf89-d35c-4261-ab79-739654edc957"
      },
      "outputs": [
        {
          "name": "stdout",
          "output_type": "stream",
          "text": [
            "----------------------------------------------------------------------------------------------------\n",
            "Taxa de erro para a classe \"Iris-versicolor\" no Teste: 24.00000%\n",
            "----------------------------------------------------------------------------------------------------\n",
            "Taxa de erro para a classe \"Iris-versicolor\" no Treinamento: 29.00000%\n",
            "----------------------------------------------------------------------------------------------------\n"
          ]
        }
      ],
      "source": [
        "# Classificador para a classe 1\n",
        "\n",
        "# Divisão dos dados em treinamento e teste\n",
        "X_train, X_test, y1_train, y1_test = train_test_split(X, y1, test_size=1/3, random_state=42)\n",
        "\n",
        "model1 = LinearRegression()         # Modelo de Quadrados Mínimos\n",
        "model1.fit(X_train,y1_train)        # Treinamento do modelo\n",
        "\n",
        "y1_pred = model1.predict(X_test)\n",
        "y1_pred = np.where(y1_pred >= 0, 1, -1)  # Predição dos dados de teste (valor booleano)\n",
        "\n",
        "acc1 = accuracy_score(y1_test,y1_pred)\n",
        "\n",
        "print('--'*50)\n",
        "\n",
        "print(f'Taxa de erro para a classe \"Iris-versicolor\" no Teste: {(1-acc1)*100:.5f}%')\n",
        "\n",
        "print('--'*50)\n",
        "\n",
        "y1_pred2 = model1.predict(X_train)\n",
        "y1_pred2 = np.where(y1_pred2 >= 0, 1, -1)    # Predição dos dados de treinamento (valor booleano)\n",
        "\n",
        "acc02 = accuracy_score(y1_train,y1_pred2)\n",
        "\n",
        "print(f'Taxa de erro para a classe \"Iris-versicolor\" no Treinamento: {(1-acc02)*100:.5f}%')\n",
        "\n",
        "print('--'*50)"
      ]
    },
    {
      "cell_type": "code",
      "execution_count": 14,
      "metadata": {
        "colab": {
          "base_uri": "https://localhost:8080/"
        },
        "id": "M65YrQU8usA3",
        "outputId": "1d1987c8-578c-4349-a16c-8510a6238d1f"
      },
      "outputs": [
        {
          "name": "stdout",
          "output_type": "stream",
          "text": [
            "----------------------------------------------------------------------------------------------------\n",
            "Taxa de erro para a classe \"Iris-virginica\" no Teste: 10.00000%\n",
            "----------------------------------------------------------------------------------------------------\n",
            "Taxa de erro para a classe \"Iris-virginica\" no Treinamento: 6.00000%\n",
            "----------------------------------------------------------------------------------------------------\n"
          ]
        }
      ],
      "source": [
        "# Classificador para a classe 2\n",
        "\n",
        "# Divisão dos dados em treinamento e teste\n",
        "X_train, X_test, y2_train, y2_test = train_test_split(X, y2, test_size=1/3, random_state=42)\n",
        "\n",
        "model2 = LinearRegression()         # Modelo de Quadrados Mínimos\n",
        "model2.fit(X_train,y2_train)        # Treinamento do modelo\n",
        "\n",
        "y2_pred = model2.predict(X_test)\n",
        "y2_pred = np.where(y2_pred >= 0, 1, -1)  # Predição dos dados de teste (valor booleano)\n",
        "\n",
        "acc2 = accuracy_score(y2_test,y2_pred)\n",
        "\n",
        "print('--'*50)\n",
        "\n",
        "print(f'Taxa de erro para a classe \"Iris-virginica\" no Teste: {(1-acc2)*100:.5f}%')\n",
        "\n",
        "print('--'*50)\n",
        "\n",
        "y2_pred2 = model2.predict(X_train)\n",
        "y2_pred2 = np.where(y2_pred2 >= 0, 1, -1)    # Predição dos dados de treinamento (valor booleano)\n",
        "\n",
        "acc03 = accuracy_score(y2_train,y2_pred2)\n",
        "\n",
        "print(f'Taxa de erro para a classe \"Iris-virginica\" no Treinamento: {(1-acc03)*100:.5f}%')\n",
        "\n",
        "print('--'*50)"
      ]
    },
    {
      "cell_type": "code",
      "execution_count": 15,
      "metadata": {},
      "outputs": [
        {
          "name": "stdout",
          "output_type": "stream",
          "text": [
            "Taxa de erro para a classe \"Iris-setosa\" no Treinamento: 0.00000%\n",
            "----------------------------------------------------------------------------------------------------\n",
            "Taxa de erro para a classe \"Iris-versicolor\" no Treinamento: 29.00000%\n",
            "----------------------------------------------------------------------------------------------------\n",
            "Taxa de erro para a classe \"Iris-virginica\" no Treinamento: 6.00000%\n",
            "----------------------------------------------------------------------------------------------------\n",
            "Taxa de erro para a classe \"Iris-setosa\" no Teste: 0.00000%\n",
            "----------------------------------------------------------------------------------------------------\n",
            "Taxa de erro para a classe \"Iris-versicolor\" no Teste: 24.00000%\n",
            "----------------------------------------------------------------------------------------------------\n",
            "Taxa de erro para a classe \"Iris-virginica\" no Teste: 10.00000%\n",
            "----------------------------------------------------------------------------------------------------\n"
          ]
        }
      ],
      "source": [
        "print(f'Taxa de erro para a classe \"Iris-setosa\" no Treinamento: {(1-acc01)*100:.5f}%')\n",
        "print('--'*50)\n",
        "print(f'Taxa de erro para a classe \"Iris-versicolor\" no Treinamento: {(1-acc02)*100:.5f}%')\n",
        "print('--'*50)\n",
        "print(f'Taxa de erro para a classe \"Iris-virginica\" no Treinamento: {(1-acc03)*100:.5f}%')\n",
        "print('--'*50)\n",
        "print(f'Taxa de erro para a classe \"Iris-setosa\" no Teste: {(1-acc0)*100:.5f}%')\n",
        "print('--'*50)\n",
        "print(f'Taxa de erro para a classe \"Iris-versicolor\" no Teste: {(1-acc1)*100:.5f}%')\n",
        "print('--'*50)\n",
        "print(f'Taxa de erro para a classe \"Iris-virginica\" no Teste: {(1-acc2)*100:.5f}%')\n",
        "print('--'*50)\n"
      ]
    },
    {
      "cell_type": "markdown",
      "metadata": {
        "id": "CY01_FmRvOi1"
      },
      "source": [
        "# Classificador Binário SVM"
      ]
    },
    {
      "cell_type": "code",
      "execution_count": 20,
      "metadata": {
        "colab": {
          "base_uri": "https://localhost:8080/"
        },
        "id": "vzj5WPa1vSvO",
        "outputId": "fbc4c8fd-51d3-412f-829d-2f6783247c71"
      },
      "outputs": [
        {
          "name": "stdout",
          "output_type": "stream",
          "text": [
            "----------------------------------------------------------------------------------------------------\n",
            "Taxa de erro para a classe \"Iris-setosa\" no Teste (SVM): 0.00000%\n",
            "----------------------------------------------------------------------------------------------------\n",
            "Taxa de erro para a classe \"Iris-setosa\" no Treinamento (SVM): 0.00000%\n",
            "----------------------------------------------------------------------------------------------------\n"
          ]
        }
      ],
      "source": [
        "from sklearn.svm import SVC\n",
        "\n",
        "# Classificador para a classe 0 - SVM\n",
        "\n",
        "\n",
        "modelSVM0 = SVC(kernel='linear',random_state=42)    # Modelo SVM linear\n",
        "modelSVM0.fit(X_train,y0_train)                     # Treinamento do modelo\n",
        "\n",
        "ySVM0_pred = modelSVM0.predict(X_test)              # Predição dos dados de teste (valor booleano)\n",
        "\n",
        "accSVM0 = accuracy_score(y0_test,ySVM0_pred)\n",
        "\n",
        "print('--'*50)\n",
        "\n",
        "print(f'Taxa de erro para a classe \"Iris-setosa\" no Teste (SVM): {(1-accSVM0)*100:.5f}%')\n",
        "\n",
        "print('--'*50)\n",
        "\n",
        "ySVM0_pred2 = modelSVM0.predict(X_train)\n",
        "# ySVM0_pred2 = (ySVM0_pred2 >= 0.5).astype(int)\n",
        "\n",
        "accSVM01 = accuracy_score(y0_train,ySVM0_pred2) # Predição dos dados de treinamento (valor booleano)\n",
        "\n",
        "print(f'Taxa de erro para a classe \"Iris-setosa\" no Treinamento (SVM): {(1-accSVM01)*100:.5f}%')\n",
        "\n",
        "print('--'*50)"
      ]
    },
    {
      "cell_type": "code",
      "execution_count": 21,
      "metadata": {
        "colab": {
          "base_uri": "https://localhost:8080/"
        },
        "id": "OubYg1XSxCG4",
        "outputId": "47002bd1-9613-4075-e6f8-e591580b2f26"
      },
      "outputs": [
        {
          "name": "stdout",
          "output_type": "stream",
          "text": [
            "----------------------------------------------------------------------------------------------------\n",
            "Taxa de erro para a classe \"Iris-versicolor\" no Teste (SVM): 26.00000%\n",
            "----------------------------------------------------------------------------------------------------\n",
            "Taxa de erro para a classe \"Iris-versicolor\" no Treinamento: 23.00000%\n",
            "----------------------------------------------------------------------------------------------------\n"
          ]
        }
      ],
      "source": [
        "# Classificador para a classe 1 - SVM\n",
        "\n",
        "modelSVM1 = SVC(kernel='linear',random_state=42)    # Modelo SVM linear\n",
        "modelSVM1.fit(X_train,y1_train)                     # Treinamento do modelo\n",
        "\n",
        "ySVM1_pred = modelSVM1.predict(X_test)              # Predição dos dados de teste (valor booleano)\n",
        "\n",
        "accSVM1 = accuracy_score(y1_test,ySVM1_pred)        \n",
        "\n",
        "print('--'*50)\n",
        "\n",
        "print(f'Taxa de erro para a classe \"Iris-versicolor\" no Teste (SVM): {(1-accSVM1)*100:.5f}%')\n",
        "\n",
        "print('--'*50)\n",
        "\n",
        "ySVM1_pred2 = modelSVM1.predict(X_train)    # Predição dos dados de treinamento (valor booleano)\n",
        "\n",
        "accSVM02 = accuracy_score(y1_train,ySVM1_pred2)\n",
        "\n",
        "print(f'Taxa de erro para a classe \"Iris-versicolor\" no Treinamento: {(1-accSVM02)*100:.5f}%')\n",
        "\n",
        "print('--'*50)"
      ]
    },
    {
      "cell_type": "code",
      "execution_count": 22,
      "metadata": {
        "colab": {
          "base_uri": "https://localhost:8080/"
        },
        "id": "nIzpaCky3GyR",
        "outputId": "aa3a9e22-971e-427f-86a3-79370fe646d0"
      },
      "outputs": [
        {
          "name": "stdout",
          "output_type": "stream",
          "text": [
            "----------------------------------------------------------------------------------------------------\n",
            "Taxa de erro para a classe \"Iris-virginica\" no Teste (SVM): 0.00000%\n",
            "----------------------------------------------------------------------------------------------------\n",
            "Taxa de erro para a classe \"Iris-virginica\" no Treinamento (SVM): 3.00000%\n",
            "----------------------------------------------------------------------------------------------------\n"
          ]
        }
      ],
      "source": [
        "# Classificador para a classe 2 - SVM\n",
        "\n",
        "\n",
        "modelSVM2 = SVC(kernel='linear',random_state=42)    # Modelo SVM linear\n",
        "modelSVM2.fit(X_train,y2_train)                     # Treinamento do modelo\n",
        "\n",
        "ySVM2_pred = modelSVM2.predict(X_test)              # Predição dos dados de teste (valor booleano)\n",
        "\n",
        "accSVM2 = accuracy_score(y2_test,ySVM2_pred)\n",
        "\n",
        "print('--'*50)\n",
        "\n",
        "print(f'Taxa de erro para a classe \"Iris-virginica\" no Teste (SVM): {(1-accSVM2)*100:.5f}%')\n",
        "\n",
        "print('--'*50)\n",
        "\n",
        "ySVM2_pred2 = modelSVM2.predict(X_train)        # Predição dos dados de treinamento (valor booleano)\n",
        "\n",
        "accSVM03 = accuracy_score(y2_train,ySVM2_pred2)\n",
        "\n",
        "print(f'Taxa de erro para a classe \"Iris-virginica\" no Treinamento (SVM): {(1-accSVM03)*100:.5f}%')\n",
        "\n",
        "print('--'*50)"
      ]
    },
    {
      "cell_type": "code",
      "execution_count": 23,
      "metadata": {},
      "outputs": [
        {
          "name": "stdout",
          "output_type": "stream",
          "text": [
            "----------------------------------------------------------------------------------------------------\n",
            "Taxa de erro para a classe \"Iris-setosa\" no Treinamento (SVM): 0.00000%\n",
            "----------------------------------------------------------------------------------------------------\n",
            "Taxa de erro para a classe \"Iris-versicolor\" no Treinamento (SVM): 23.00000%\n",
            "----------------------------------------------------------------------------------------------------\n",
            "Taxa de erro para a classe \"Iris-virginica\" no Treinamento (SVM): 3.00000%\n",
            "----------------------------------------------------------------------------------------------------\n",
            "Taxa de erro para a classe \"Iris-setosa\" no Teste (SVM): 0.00000%\n",
            "----------------------------------------------------------------------------------------------------\n",
            "Taxa de erro para a classe \"Iris-versicolor\" no Teste (SVM): 26.00000%\n",
            "----------------------------------------------------------------------------------------------------\n",
            "Taxa de erro para a classe \"Iris-virginica\" no Teste (SVM): 0.00000%\n",
            "----------------------------------------------------------------------------------------------------\n"
          ]
        }
      ],
      "source": [
        "print('--'*50)\n",
        "print(f'Taxa de erro para a classe \"Iris-setosa\" no Treinamento (SVM): {(1-accSVM01)*100:.5f}%')\n",
        "print('--'*50)\n",
        "print(f'Taxa de erro para a classe \"Iris-versicolor\" no Treinamento (SVM): {(1-accSVM02)*100:.5f}%')\n",
        "print('--'*50)\n",
        "print(f'Taxa de erro para a classe \"Iris-virginica\" no Treinamento (SVM): {(1-accSVM03)*100:.5f}%')\n",
        "print('--'*50)\n",
        "print(f'Taxa de erro para a classe \"Iris-setosa\" no Teste (SVM): {(1-accSVM0)*100:.5f}%')\n",
        "print('--'*50)\n",
        "print(f'Taxa de erro para a classe \"Iris-versicolor\" no Teste (SVM): {(1-accSVM1)*100:.5f}%')\n",
        "print('--'*50)\n",
        "print(f'Taxa de erro para a classe \"Iris-virginica\" no Teste (SVM): {(1-accSVM2)*100:.5f}%')\n",
        "print('--'*50)"
      ]
    },
    {
      "cell_type": "markdown",
      "metadata": {
        "id": "dyl1vVTD3k3c"
      },
      "source": [
        "# Classificador Multi-classe por Quadrados Mínimos"
      ]
    },
    {
      "cell_type": "code",
      "execution_count": null,
      "metadata": {
        "id": "a-2YvKC73s4D"
      },
      "outputs": [],
      "source": [
        "from sklearn.metrics import confusion_matrix\n",
        "import numpy as np\n",
        "\n",
        "\n",
        "X = iris_df.drop(columns=['target','class0','class1','class2']) # Matriz das amostras e seus atributos\n",
        "y = iris_df['target']                                           # Todas as classes\n",
        "\n",
        "# Divisão dos dados em treinamento e teste\n",
        "X_train, X_test, y_train, y_test = train_test_split(X, y, test_size=1/3, random_state=42)"
      ]
    },
    {
      "cell_type": "code",
      "execution_count": null,
      "metadata": {
        "colab": {
          "base_uri": "https://localhost:8080/"
        },
        "id": "nWEwi-ep4FQr",
        "outputId": "06908ca1-6f44-42a3-dfd4-8dd2ec4ba681"
      },
      "outputs": [],
      "source": [
        "modelQM = LinearRegression()    # Modelo de Minímos Quadrados\n",
        "modelQM.fit(X_train,y_train)    # Treinamento do modelo\n",
        "\n",
        "y_pred = modelQM.predict(X_test)                    # Predição do modelo para os dados de teste\n",
        "y_pred = np.clip(np.round(y_pred),0,2).astype(int)  # Como são gerados valores contínuos, arrendonda-se cada valor por um inteiro mais próximo entre 0 e 2\n",
        "\n",
        "# Montagem da Matriz de Confusão\n",
        "print('Matriz de Confusão p/ o conjunto de Teste: \\n')\n",
        "C = confusion_matrix(y_test, y_pred)\n",
        "confusionMatrix = pd.DataFrame(data=C, index=['0, true', '1, true', '2, true'], columns=['0, predicted', '1, predicted', '2, predicted'])\n",
        "confusionMatrix.loc['sum'] = confusionMatrix.sum()\n",
        "confusionMatrix['sum'] = confusionMatrix.sum(axis=1)\n",
        "print(confusionMatrix)\n",
        "print('--'*50)\n",
        "\n",
        "y_pred2 = modelQM.predict(X_train)                      # Predição do modelo para os dados de treinamento\n",
        "y_pred2 = np.clip(np.round(y_pred2),0,2).astype(int)    # Como são gerados valores contínuos, arrendonda-se cada valor por um inteiro mais próximo entre 0 e 2\n",
        "\n",
        "# Montagem da Matriz de Confusão\n",
        "print('Matriz de Confusão p/ o conjunto de Treinamento: \\n')\n",
        "C = confusion_matrix(y_train, y_pred2)\n",
        "confusionMatrix = pd.DataFrame(data=C, index=['0, true', '1, true', '2, true'], columns=['0, predicted', '1, predicted', '2, predicted'])\n",
        "confusionMatrix.loc['sum'] = confusionMatrix.sum()\n",
        "confusionMatrix['sum'] = confusionMatrix.sum(axis=1)\n",
        "print(confusionMatrix)\n",
        "print('--'*50)"
      ]
    },
    {
      "cell_type": "markdown",
      "metadata": {
        "id": "kUNnlZmF5Vih"
      },
      "source": [
        "# Classificador  Multi-Classe por SVM"
      ]
    },
    {
      "cell_type": "code",
      "execution_count": null,
      "metadata": {
        "colab": {
          "base_uri": "https://localhost:8080/"
        },
        "id": "gC51Czj55aFY",
        "outputId": "907b86d8-a132-4598-d47c-fd532f949ab7"
      },
      "outputs": [],
      "source": [
        "modelSVM = SVC(kernel='linear',random_state=42) # Modelo de SVM Linear\n",
        "modelSVM.fit(X_train,y_train)                   # Treinamento do modelo\n",
        "\n",
        "y_predSVM = modelSVM.predict(X_test)    # Predição do modelo para os dados de teste\n",
        "\n",
        "# Montagem da Matriz de Confusão\n",
        "print('Matriz de Confusão p/ o conjunto de Teste (SVM): \\n')\n",
        "C = confusion_matrix(y_test, y_predSVM)\n",
        "confusionMatrix = pd.DataFrame(data=C, index=['0, true', '1, true', '2, true'], columns=['0, predicted', '1, predicted', '2, predicted'])\n",
        "confusionMatrix.loc['sum'] = confusionMatrix.sum()\n",
        "confusionMatrix['sum'] = confusionMatrix.sum(axis=1)\n",
        "print(confusionMatrix)\n",
        "print('--'*50)\n",
        "\n",
        "y_predSVM2 = modelSVM.predict(X_train)  # Predição do modelo para os dados de treinamento\n",
        "\n",
        "# Montagem da Matriz de Confusão\n",
        "print('Matriz de Confusão p/ o conjunto de Treinamento (SVM): \\n')\n",
        "C = confusion_matrix(y_train, y_predSVM2)   \n",
        "confusionMatrix = pd.DataFrame(data=C, index=['0, true', '1, true', '2, true'], columns=['0, predicted', '1, predicted', '2, predicted'])\n",
        "confusionMatrix.loc['sum'] = confusionMatrix.sum()\n",
        "confusionMatrix['sum'] = confusionMatrix.sum(axis=1)\n",
        "print(confusionMatrix)\n",
        "print('--'*50)"
      ]
    }
  ],
  "metadata": {
    "colab": {
      "provenance": []
    },
    "kernelspec": {
      "display_name": "Python 3",
      "name": "python3"
    },
    "language_info": {
      "codemirror_mode": {
        "name": "ipython",
        "version": 3
      },
      "file_extension": ".py",
      "mimetype": "text/x-python",
      "name": "python",
      "nbconvert_exporter": "python",
      "pygments_lexer": "ipython3",
      "version": "3.12.3"
    }
  },
  "nbformat": 4,
  "nbformat_minor": 0
}
